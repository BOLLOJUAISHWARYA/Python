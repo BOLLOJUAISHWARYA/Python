{
 "cells": [
  {
   "cell_type": "markdown",
   "id": "42e5233a",
   "metadata": {},
   "source": [
    "PROBLEM STATEMENT:Input a list of numbers and find the longest sequence in increment and decrement and print its sum, if both lengths are equal then based on index it should give the result.\n",
    "\n",
    "Example:11,5,4,9,4,5,8,9,1\n",
    "Result:[4,5,8,9] summation = 26"
   ]
  },
  {
   "cell_type": "code",
   "execution_count": 14,
   "id": "9ddd3bc6",
   "metadata": {},
   "outputs": [
    {
     "name": "stdout",
     "output_type": "stream",
     "text": [
      "Enter numbers in list: 11,5,4,9,4,5,8,9,1\n",
      "sequence = [4, 5, 8, 9] summation = 26\n"
     ]
    }
   ],
   "source": [
    "#Taking input from user\n",
    "list_numbers=list(map(int, input(\"Enter numbers in list: \").split(',')))\n",
    "\n",
    "\n",
    "#This function gives the summation of list in list which has max length\n",
    "def max_length(increment):\n",
    "    length=0\n",
    "    for i in range(len(increment)):\n",
    "        if len(increment[i])>length:\n",
    "            length=len(increment[i])\n",
    "            index=i\n",
    "            sequence=increment[i]\n",
    "            summation=sum(increment[i])\n",
    "    return sequence,length,index,summation\n",
    "\n",
    "#This function segregates into two lists in lists of increment and decrement sequence\n",
    "def sequence(list_numbers):\n",
    "    increment=[]\n",
    "    decrement=[]\n",
    "    first=0\n",
    "    replace=0\n",
    "    replace_decrement=0\n",
    "    second=1\n",
    "    while second < len(l):\n",
    "        if(l[second]<l[first]): #comparing second element with first and then forming list till there is a sequence   \n",
    "            increment.append(l[replace:second])\n",
    "            replace=second \n",
    "        else:\n",
    "            decrement.append(l[replace_decrement:second])\n",
    "            replace_decrement=second\n",
    "        first +=1\n",
    "        second +=1\n",
    "\n",
    "    #adding the last element to the increment and decrement list    \n",
    "    increment.append(l[replace:second])\n",
    "    decrement.append(l[replace_decrement:second])\n",
    "    \n",
    "    #calling the above defined function \n",
    "    increment_sequence,increment_length,increment_index,increment_seq_sum=max_length(increment)\n",
    "    decrement_sequence,decrement_length,decrement_index,decrement_seq_sum=max_length(decrement)\n",
    "    \n",
    "    #Condition to compare the length and give result \n",
    "    if increment_length==decrement_length:\n",
    "        if(increment_index<decrement_index):\n",
    "            print(f'sequence = {increment_sequence} summation = {increment_seq_sum}')\n",
    "        else:\n",
    "            print(f'sequence = {decrement_sequence} summation = {decrement_seq_sum}')\n",
    "    elif increment_length>decrement_length:\n",
    "        print(f'sequence = {increment_sequence} summation = {increment_seq_sum}')\n",
    "    else:\n",
    "        print(f'sequence = {decrement_sequence} summation = {decrement_seq_sum}')\n",
    "    \n",
    "   \n",
    "sequence(list_numbers)"
   ]
  }
 ],
 "metadata": {
  "kernelspec": {
   "display_name": "Python 3 (ipykernel)",
   "language": "python",
   "name": "python3"
  },
  "language_info": {
   "codemirror_mode": {
    "name": "ipython",
    "version": 3
   },
   "file_extension": ".py",
   "mimetype": "text/x-python",
   "name": "python",
   "nbconvert_exporter": "python",
   "pygments_lexer": "ipython3",
   "version": "3.9.7"
  }
 },
 "nbformat": 4,
 "nbformat_minor": 5
}
