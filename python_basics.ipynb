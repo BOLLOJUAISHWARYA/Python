{
 "cells": [
  {
   "cell_type": "markdown",
   "id": "4c5a9fee",
   "metadata": {},
   "source": [
    "A name in the python program is called as **identifier.**\n",
    "\n",
    "Rules:\n",
    "-->Alphabates(Either lower case or upper case)\n",
    "-->Digits(0-9)\n",
    "-->Underscore symbol(_)\n",
    "\n",
    "a=100(a is identifier)\n",
    "\n",
    "**Reserved words**---30+ are there in python such as if,true,import\n",
    "\n",
    "**Data type**---static(c,java) and dynamic\n",
    "--python supports dynamic datatypes\n",
    "\n",
    "14 types of datatypes are there in python\n",
    "\n",
    "1.int\n",
    "2.float\n",
    "3.complex\n",
    "4.bool\n",
    "5.str(basic till here)\n",
    "6.bytes\n",
    "7.bytesarray\n",
    "8.range\n",
    "9.list\n",
    "10.tuple\n",
    "11.set\n",
    "12.frozenset\n",
    "13.dict\n",
    "14.None"
   ]
  },
  {
   "cell_type": "markdown",
   "id": "9e345093",
   "metadata": {},
   "source": [
    "int can be represented in 4 ways\n",
    "Decimal form(base 10)\n",
    "Binary form(base 2)\n",
    "Octal form(base 8)\n",
    "Hexa decimal form(base 16)"
   ]
  },
  {
   "cell_type": "code",
   "execution_count": 1,
   "id": "0717a72e",
   "metadata": {},
   "outputs": [
    {
     "name": "stdout",
     "output_type": "stream",
     "text": [
      "15\n",
      "83\n",
      "64206\n",
      "0b1111\n",
      "0o12\n",
      "0x64\n"
     ]
    }
   ],
   "source": [
    "print(0b1111)\n",
    "print(0o123)#1*(8**2)+2*(8**1)+3*(8**0))\n",
    "print(0XFACE)#(10-A....)\n",
    "\n",
    "print(bin(15))\n",
    "print(oct(10))\n",
    "print(hex(100))"
   ]
  },
  {
   "cell_type": "code",
   "execution_count": 2,
   "id": "27469c09",
   "metadata": {},
   "outputs": [
    {
     "name": "stdout",
     "output_type": "stream",
     "text": [
      "283.0 93 1\n",
      "[1, 9, 9, 6.0, 50, 54, 61, 93, 14]\n",
      "14\n",
      "[1, 9, 6.0, 50, 54, 61, 93]\n",
      "[1, 9, 6.0, 50, 54]\n",
      "[1, 9, 6.0, 50, 54, 2, 3, 4, 5, 6]\n"
     ]
    }
   ],
   "source": [
    "l1=[1,9,9,6.0,50,54,61,93]\n",
    "\n",
    "print(sum(l1), max(l1), min(l1))\n",
    "\n",
    "l1.append(14)\n",
    "print(l1)\n",
    "print(l1.pop())\n",
    "l1.remove(9)\n",
    "print(l1)\n",
    "del l1[5:]\n",
    "print(l1)\n",
    "l1.extend([2,3,4,5,6])\n",
    "print(l1)"
   ]
  },
  {
   "cell_type": "markdown",
   "id": "d649b713",
   "metadata": {},
   "source": [
    "Type casting---convert one type to another\n",
    "Escape Characters:---\\n(new),\\t(horizontal tab)"
   ]
  },
  {
   "cell_type": "code",
   "execution_count": 3,
   "id": "a084b7a7",
   "metadata": {},
   "outputs": [
    {
     "name": "stdout",
     "output_type": "stream",
     "text": [
      "Kalki\n",
      "Software\n"
     ]
    },
    {
     "data": {
      "text/plain": [
       "(10+0j)"
      ]
     },
     "execution_count": 3,
     "metadata": {},
     "output_type": "execute_result"
    }
   ],
   "source": [
    "s=\"Kalki\\nSoftware\"\n",
    "print(s)\n",
    "\n",
    "complex(10)"
   ]
  },
  {
   "cell_type": "markdown",
   "id": "40533898",
   "metadata": {},
   "source": [
    "**operators**\n",
    "Arithmetic Operators\n",
    "\n",
    "Relational Operators OR Comparision Operators\n",
    "\n",
    "Logical Operators\n",
    "\n",
    "Bitwise Operators(&,|,^,~,<<,>>)\n",
    "\n",
    "Assignment Operators\n",
    "\n",
    "Special Operators-identity(is and is not) and membership (in and not in)"
   ]
  },
  {
   "cell_type": "code",
   "execution_count": 4,
   "id": "492e9955",
   "metadata": {},
   "outputs": [
    {
     "name": "stdout",
     "output_type": "stream",
     "text": [
      "4\n",
      "8\n"
     ]
    }
   ],
   "source": [
    "print(4 & 5)\n",
    "print(12 & 25)\n",
    "#print(10.5 & 5.6)not valid"
   ]
  },
  {
   "cell_type": "code",
   "execution_count": 5,
   "id": "bad61dbe",
   "metadata": {},
   "outputs": [
    {
     "name": "stdout",
     "output_type": "stream",
     "text": [
      "30\n",
      "10\n"
     ]
    }
   ],
   "source": [
    "#Ternary operator\n",
    "x=30 if 10<20 else 40\n",
    "print(x)\n",
    "\n",
    "x=10 if 20<30 else 40 if 50<60 else 70\n",
    "print(x)"
   ]
  },
  {
   "cell_type": "code",
   "execution_count": 6,
   "id": "5046260d",
   "metadata": {},
   "outputs": [
    {
     "name": "stdout",
     "output_type": "stream",
     "text": [
      "Enter 3 float numbers :3.4,5.6,7.8\n",
      "The sum is : 16.8\n"
     ]
    }
   ],
   "source": [
    "a,b,c=[float(x) for x in input(\"Enter 3 float numbers :\").split(\",\")]\n",
    "print(\"The sum is :\",a+b+c)"
   ]
  },
  {
   "cell_type": "markdown",
   "id": "ba734afb",
   "metadata": {},
   "source": [
    "eval function take a string and evaluate the result."
   ]
  },
  {
   "cell_type": "code",
   "execution_count": 7,
   "id": "b377f64a",
   "metadata": {},
   "outputs": [
    {
     "name": "stdout",
     "output_type": "stream",
     "text": [
      "Enter expression :12-78/5\n",
      "-3.5999999999999996\n"
     ]
    }
   ],
   "source": [
    "x=eval(input(\"Enter expression :\"))\n",
    "print(x)"
   ]
  },
  {
   "cell_type": "code",
   "execution_count": 8,
   "id": "00ea0bed",
   "metadata": {},
   "outputs": [
    {
     "name": "stdout",
     "output_type": "stream",
     "text": [
      "a value is 10\n"
     ]
    }
   ],
   "source": [
    "a=10\n",
    "print(\"a value is %d\" %a)"
   ]
  },
  {
   "cell_type": "code",
   "execution_count": 9,
   "id": "828c317b",
   "metadata": {},
   "outputs": [
    {
     "name": "stdout",
     "output_type": "stream",
     "text": [
      "Hello Ram your salary 10000\n"
     ]
    }
   ],
   "source": [
    "name=\"Ram\"\n",
    "salary=10000\n",
    "print(\"Hello {0} your salary {1}\".format(name,salary))"
   ]
  },
  {
   "cell_type": "markdown",
   "id": "87af5a9b",
   "metadata": {},
   "source": [
    "**Flow control statements**\n",
    "\n",
    "conditional---if,ifelse\n",
    "\n",
    "transfer---break,continue,pass\n",
    "\n",
    "iterative---for,while"
   ]
  },
  {
   "cell_type": "code",
   "execution_count": 10,
   "id": "fef5d782",
   "metadata": {},
   "outputs": [
    {
     "name": "stdout",
     "output_type": "stream",
     "text": [
      "Enter some number:7\n",
      "* \n",
      "* * \n",
      "* * * \n",
      "* * * * \n",
      "* * * * * \n",
      "* * * * * * \n",
      "* * * * * * * \n"
     ]
    }
   ],
   "source": [
    "n=int(input(\"Enter some number:\"))\n",
    "\n",
    "for i in range(1,n+1):\n",
    "     print(\"* \"*i)"
   ]
  },
  {
   "cell_type": "markdown",
   "id": "6adb76b5",
   "metadata": {},
   "source": [
    "for --sequence---break to exit\n",
    "while---till condition is false----break to exit\n",
    "\n",
    "skip any iteration--continue\n",
    "\n",
    "pass-just to pass without any code"
   ]
  },
  {
   "cell_type": "code",
   "execution_count": 11,
   "id": "2ee37208",
   "metadata": {},
   "outputs": [
    {
     "name": "stdout",
     "output_type": "stream",
     "text": [
      "(140105745838224, 5)\n",
      "array('i', [25, 64, 81, 1156, 49])\n"
     ]
    }
   ],
   "source": [
    "#arrays\n",
    "\n",
    "from array import *\n",
    "\n",
    "array1=array('i',[5,8,9,34,7])\n",
    "\n",
    "print(array1.buffer_info())\n",
    "\n",
    "new_array=array(array1.typecode,(a*a for a in array1))\n",
    "\n",
    "print(new_array)"
   ]
  },
  {
   "cell_type": "code",
   "execution_count": 12,
   "id": "028d3e9c",
   "metadata": {},
   "outputs": [
    {
     "name": "stdout",
     "output_type": "stream",
     "text": [
      "Enter the length of array 3\n",
      "Enter number1\n",
      "Enter number2\n",
      "Enter number3\n",
      "array('i', [1, 2, 3])\n"
     ]
    }
   ],
   "source": [
    "#array input from user\n",
    "\n",
    "array2=array('i',[])\n",
    "\n",
    "n=int(input(\"Enter the length of array \"))\n",
    "\n",
    "for i in range(n):\n",
    "    x=int(input(\"Enter number\"))\n",
    "    \n",
    "    array2.append(x)\n",
    "    \n",
    "print(array2)"
   ]
  },
  {
   "cell_type": "code",
   "execution_count": 13,
   "id": "b5bb3eb6",
   "metadata": {},
   "outputs": [
    {
     "name": "stdout",
     "output_type": "stream",
     "text": [
      "[2.23606798 2.82842712 3.         5.83095189 2.64575131]\n",
      "140105745835568\n",
      "140105745835568\n",
      "140105728299536\n",
      "140105230138992\n",
      "[ 4  7  8 50] [ 4  7  8 50] [4 7 8 9]\n"
     ]
    }
   ],
   "source": [
    "#ways to define array\n",
    "#array,linspace,arange,logspace,zeros,ones\n",
    "\n",
    "from numpy import *\n",
    "\n",
    "print(sqrt(array1))\n",
    "\n",
    "#shallow and deep copy\n",
    "\n",
    "array3=array1\n",
    "\n",
    "print(id(array1))#same address we can edit by asking anyone\n",
    "print(id(array3))\n",
    "\n",
    "array4=array([4,7,8,9])\n",
    "array5=array4.view()#shallow copy\n",
    "array6=array5.copy()#deep copy\n",
    "\n",
    "print(id(array4))\n",
    "print(id(array5))\n",
    "\n",
    "array4[3]=50\n",
    "print(array4,array5,array6)"
   ]
  },
  {
   "cell_type": "code",
   "execution_count": 14,
   "id": "7aa2c7dc",
   "metadata": {},
   "outputs": [
    {
     "name": "stdout",
     "output_type": "stream",
     "text": [
      "7\n"
     ]
    }
   ],
   "source": [
    "#Types of arguments---formal,actual-----actual types(position,keyword,default,variable length(*,**))\n",
    "\n",
    "def add(a,b):#formal\n",
    "    c = a+b\n",
    "    print(c)\n",
    "    \n",
    "add(3,4)#actual(passing)"
   ]
  },
  {
   "cell_type": "code",
   "execution_count": 15,
   "id": "2e458d1b",
   "metadata": {},
   "outputs": [
    {
     "name": "stdout",
     "output_type": "stream",
     "text": [
      "mavik\n",
      "(28, 'pune', 345678)\n",
      "mavik\n",
      "{'age': 28, 'location': 'pune', 'mob': 890643}\n",
      "age 28\n",
      "location pune\n",
      "mob 890643\n"
     ]
    }
   ],
   "source": [
    "def person(name,*data):\n",
    "    print(name)\n",
    "    print(data)\n",
    "    \n",
    "person('mavik',28,'pune',345678)\n",
    "\n",
    "def person1(name,**data):\n",
    "    print(name)\n",
    "    print(data)\n",
    "    \n",
    "    for i,j in data.items():\n",
    "        print(i,j)\n",
    "person1('mavik',age=28,location='pune',mob=890643)"
   ]
  },
  {
   "cell_type": "code",
   "execution_count": 16,
   "id": "fcec4135",
   "metadata": {},
   "outputs": [
    {
     "name": "stdout",
     "output_type": "stream",
     "text": [
      "140105790310992\n",
      "in fun 9\n",
      "140105790310992\n",
      "15\n"
     ]
    }
   ],
   "source": [
    "#global scope\n",
    "\n",
    "a=10\n",
    "print(id(a))\n",
    "\n",
    "def something():\n",
    "    a=9\n",
    "    \n",
    "    x= globals()['a']\n",
    "    print(\"in fun\" , a)\n",
    "    print(id(x))\n",
    "    globals()['a']=15#we can modify using globals()\n",
    "\n",
    "something()\n",
    "print(a)"
   ]
  },
  {
   "cell_type": "code",
   "execution_count": 17,
   "id": "276b5837",
   "metadata": {},
   "outputs": [
    {
     "name": "stdout",
     "output_type": "stream",
     "text": [
      "Even : 6 and odd : 3\n",
      "even : 6 and odd : 3\n"
     ]
    }
   ],
   "source": [
    "#passing list to function\n",
    "\n",
    "def count(lst):\n",
    "    \n",
    "    even=0\n",
    "    odd=0\n",
    "    \n",
    "    for i in lst:\n",
    "        \n",
    "        if i%2==0:\n",
    "            \n",
    "            even+=1\n",
    "            \n",
    "        else:\n",
    "            odd+=1\n",
    "            \n",
    "    return even,odd\n",
    "\n",
    "\n",
    "lst=[20,25,14,19,16,24,28,47,26]\n",
    "\n",
    "even,odd = count(lst)\n",
    "\n",
    "print(\"Even : {} and odd : {}\".format(even,odd))\n",
    "\n",
    "print(f'even : {even} and odd : {odd}')#another way of printing"
   ]
  },
  {
   "cell_type": "code",
   "execution_count": 18,
   "id": "90c370c5",
   "metadata": {},
   "outputs": [
    {
     "name": "stdout",
     "output_type": "stream",
     "text": [
      "0\n",
      "1\n",
      "1\n",
      "2\n",
      "3\n",
      "5\n",
      "8\n",
      "13\n",
      "21\n",
      "34\n",
      "55\n"
     ]
    }
   ],
   "source": [
    "#fibonacci series\n",
    "def fib(n):\n",
    "    \n",
    "    a=0\n",
    "    b=1\n",
    "    \n",
    "    if n==1:\n",
    "        print(a)\n",
    "        \n",
    "    else:\n",
    "        print(a)\n",
    "        print(b)\n",
    "    \n",
    "    \n",
    "        for i in range(2,n+1):\n",
    "\n",
    "            c=a+b\n",
    "            a=b\n",
    "            b=c\n",
    "            print(c)\n",
    "    \n",
    "fib(10)"
   ]
  },
  {
   "cell_type": "code",
   "execution_count": 19,
   "id": "85626ec6",
   "metadata": {},
   "outputs": [
    {
     "name": "stdout",
     "output_type": "stream",
     "text": [
      "120\n"
     ]
    }
   ],
   "source": [
    "#factorial\n",
    "def factorial(n):\n",
    "    \n",
    "    f=1\n",
    "    \n",
    "    for i in range(1,n+1):\n",
    "        f=f*i\n",
    "        \n",
    "    return f\n",
    "\n",
    "x=5\n",
    "\n",
    "result=factorial(x)\n",
    "print(result)\n"
   ]
  },
  {
   "cell_type": "code",
   "execution_count": 20,
   "id": "f75b69fa",
   "metadata": {},
   "outputs": [
    {
     "name": "stdout",
     "output_type": "stream",
     "text": [
      "120\n"
     ]
    }
   ],
   "source": [
    "#Factorial recursion\n",
    "\n",
    "def fact(n):\n",
    "    \n",
    "    if(n==0):#limit is imp\n",
    "        return 1\n",
    "    \n",
    "    return n*fact(n-1)\n",
    "    \n",
    "    \n",
    "result=fact(5)\n",
    "\n",
    "print(result)"
   ]
  },
  {
   "cell_type": "code",
   "execution_count": 21,
   "id": "a0936302",
   "metadata": {},
   "outputs": [
    {
     "name": "stdout",
     "output_type": "stream",
     "text": [
      "[2, 6, 8, 4, 6, 2] [2, 6, 8, 4, 6, 2]\n",
      "[4, 12, 16, 8, 12, 4]\n"
     ]
    }
   ],
   "source": [
    "#lambda,map,reduce,filter\n",
    "\n",
    "def is_even(n):\n",
    "    return n%2==0\n",
    "\n",
    "nums = [3,2,6,8,4,6,2,9]\n",
    "\n",
    "evens = list(filter(is_even,nums))#returns sequence in general\n",
    "\n",
    "evens1=list(filter(lambda n : n%2==0,nums))\n",
    "\n",
    "print(evens,evens1)\n",
    "\n",
    "doubles=list(map(lambda n : n*2,evens))\n",
    "\n",
    "print(doubles)\n"
   ]
  },
  {
   "cell_type": "code",
   "execution_count": 22,
   "id": "dde7ba98",
   "metadata": {},
   "outputs": [
    {
     "name": "stdout",
     "output_type": "stream",
     "text": [
      "56\n"
     ]
    }
   ],
   "source": [
    "from functools import reduce\n",
    "\n",
    "s=reduce(lambda a,b:a+b,doubles)\n",
    "\n",
    "print(s)"
   ]
  },
  {
   "cell_type": "code",
   "execution_count": 23,
   "id": "1c33b023",
   "metadata": {},
   "outputs": [
    {
     "name": "stdout",
     "output_type": "stream",
     "text": [
      "2.0\n"
     ]
    }
   ],
   "source": [
    "#Decorators-adding the extra features in existing function without touching the original func\n",
    "\n",
    "\n",
    "def div(a,b):\n",
    "    print(a/b)\n",
    "\n",
    "def smart_div(func):\n",
    "    \n",
    "    def inner(a,b):\n",
    "        \n",
    "        if a<b:\n",
    "            a,b=b,a\n",
    "        \n",
    "        return func(a,b)\n",
    "    \n",
    "    return inner\n",
    "\n",
    "div=smart_div(div)\n",
    "\n",
    "div(2,4)"
   ]
  },
  {
   "cell_type": "code",
   "execution_count": 24,
   "id": "46af870c",
   "metadata": {},
   "outputs": [
    {
     "name": "stdout",
     "output_type": "stream",
     "text": [
      "(16, 'module')\n"
     ]
    },
    {
     "data": {
      "text/plain": [
       "(4, 'module')"
      ]
     },
     "execution_count": 24,
     "metadata": {},
     "output_type": "execute_result"
    }
   ],
   "source": [
    "#module-importing module\n",
    "\n",
    "import module\n",
    "\n",
    "module.square(2)\n"
   ]
  },
  {
   "cell_type": "code",
   "execution_count": 25,
   "id": "73226415",
   "metadata": {},
   "outputs": [
    {
     "name": "stdout",
     "output_type": "stream",
     "text": [
      "__main__\n"
     ]
    }
   ],
   "source": [
    "print(__name__)#special variable ,it can be used to check whether the current script is being run on its own or being imported somewhere else"
   ]
  },
  {
   "cell_type": "code",
   "execution_count": 26,
   "id": "cb9c18b8",
   "metadata": {},
   "outputs": [
    {
     "name": "stdout",
     "output_type": "stream",
     "text": [
      "Help on module module:\n",
      "\n",
      "NAME\n",
      "    module\n",
      "\n",
      "FUNCTIONS\n",
      "    cube(x)\n",
      "    \n",
      "    main()\n",
      "    \n",
      "    square(x)\n",
      "\n",
      "DATA\n",
      "    some_list = ['a', 1, None]\n",
      "\n",
      "FILE\n",
      "    /home/neosoft/Desktop/Aishwarya_codes/Jupyter/module.py\n",
      "\n",
      "\n",
      "None\n"
     ]
    }
   ],
   "source": [
    "import module\n",
    "print(help(module))"
   ]
  },
  {
   "cell_type": "markdown",
   "id": "8652b3f2",
   "metadata": {},
   "source": [
    "procedural programming, program is divided into small parts called functions. \n",
    "\n",
    "\n",
    "In object oriented programming, program is divided into small parts called objects.\n"
   ]
  },
  {
   "cell_type": "code",
   "execution_count": 27,
   "id": "07f3dbe8",
   "metadata": {},
   "outputs": [
    {
     "name": "stdout",
     "output_type": "stream",
     "text": [
      "grey,not autogear\n",
      "<class '__main__.car'>\n"
     ]
    }
   ],
   "source": [
    "#class and objects---class is like a blueprint for objects\n",
    "#An object is a single instance of a class\n",
    "#Attributes-->variables\n",
    "#Behaviour-->methods(functions)\n",
    "#constructor is a special member function of a class whose purpose is usually to initialize the members of an object\n",
    "\n",
    "class car:\n",
    "    \n",
    "    def wagnor(self):\n",
    "        print(\"grey,not autogear\")\n",
    "        \n",
    "car1=car()\n",
    "car1.wagnor()# or car.wagnor(car1)--car1 is object which goes as parameter\n",
    "print(type(car1))"
   ]
  },
  {
   "cell_type": "code",
   "execution_count": 31,
   "id": "3df3320a",
   "metadata": {},
   "outputs": [
    {
     "name": "stdout",
     "output_type": "stream",
     "text": [
      "140105591385824\n",
      "140105203029328\n",
      "Hello, my name is Aishwarya\n",
      "1\n",
      "Hello, my name is Bolloju\n",
      "1\n",
      "Hello, my name is Aish\n",
      "different\n",
      "2 2\n"
     ]
    }
   ],
   "source": [
    "#__init__---keyword self represents the instance of a class and binds the attributes with the given arguments.\n",
    "class Person:  \n",
    "    #class variables can be defined here\n",
    "    hands=1\n",
    "    # init method or constructor  --- variables in init are instance variables we can chnage it \n",
    "    def __init__(self, name):  \n",
    "        self.name = name  \n",
    "      \n",
    "    # Sample Method   \n",
    "    def say_hi(self):  \n",
    "        print('Hello, my name is', self.name)  \n",
    "        \n",
    "    def compare(self,other):\n",
    "        if self.name == other.name:\n",
    "            return True\n",
    "        else:\n",
    "            return False\n",
    "\n",
    "              \n",
    "        \n",
    "#creating objects\n",
    "p1 = Person('Aishwarya')  \n",
    "p2 = Person('Bolloju')\n",
    "\n",
    "#differes everytime you run it because it creates new object when you run\n",
    "print(id(p1))\n",
    "print(id(p2))\n",
    "  \n",
    "p1.say_hi() \n",
    "print(p1.hands)\n",
    "p2.say_hi()\n",
    "print(p2.hands)\n",
    "\n",
    "p1.name=\"Aish\"\n",
    "p1.say_hi()\n",
    "\n",
    "#changing class variables\n",
    "Person.hands=2\n",
    "\n",
    "#comparing\n",
    "if p1.compare(p2):\n",
    "    print(\"Same\")\n",
    "else:\n",
    "    print(\"different\")\n",
    "    \n",
    "print(p1.hands,p2.hands)\n"
   ]
  },
  {
   "cell_type": "code",
   "execution_count": 32,
   "id": "ab29a15a",
   "metadata": {},
   "outputs": [
    {
     "name": "stdout",
     "output_type": "stream",
     "text": [
      "66.33333333333333\n",
      "bghs\n",
      "This is student class\n",
      "This is student class\n"
     ]
    }
   ],
   "source": [
    "#methods--instance--works with object(accessor--fetch(get) and mutator--change(set)),class,static\n",
    "\n",
    "class student:\n",
    "    \n",
    "    school='bghs'\n",
    "    \n",
    "    def __init__(self,m1,m2,m3):\n",
    "        self.m1=m1\n",
    "        self.m2=m2\n",
    "        self.m3=m3\n",
    "        \n",
    "    def avg(self):\n",
    "        return (self.m1 + self.m2+self.m3)/3\n",
    "    \n",
    "    '''def get_m1(self):-----accessor\n",
    "        return self.m1\n",
    "    \n",
    "    def set_m1(self,value):-----mutator(we can use __init__/constructor or setmethods)\n",
    "        self.m1=value'''\n",
    "    \n",
    "    @classmethod#decorator works with class variables\n",
    "    def getschool(cls):\n",
    "        return cls.school\n",
    "    \n",
    "    @staticmethod#nothing to do with class/instance variables\n",
    "    def info():\n",
    "        print(\"This is student class\")\n",
    "    \n",
    "s1=student(34,76,89)\n",
    "\n",
    "print(s1.avg())\n",
    "print(student.getschool())\n",
    "\n",
    "s1.info()\n",
    "student.info()"
   ]
  },
  {
   "cell_type": "code",
   "execution_count": 33,
   "id": "5bc9dffe",
   "metadata": {},
   "outputs": [
    {
     "name": "stdout",
     "output_type": "stream",
     "text": [
      "Aishwarya 93\n",
      "HP i5 8\n"
     ]
    }
   ],
   "source": [
    "#class inside class\n",
    "\n",
    "class Student:\n",
    "    \n",
    "    def __init__(self,name,rollno):\n",
    "        self.name=name\n",
    "        self.rollno=rollno\n",
    "        self.lap=self.Laptop()\n",
    "        \n",
    "    def show(self):\n",
    "        print(self.name,self.rollno)\n",
    "        self.lap.show()\n",
    "        \n",
    "    class Laptop:\n",
    "        \n",
    "        def __init__(self):\n",
    "            self.brand='HP'\n",
    "            self.cpu='i5'\n",
    "            self.ram=8\n",
    "            \n",
    "        def show(self):\n",
    "            print(self.brand,self.cpu,self.ram)\n",
    "            \n",
    "s1=Student('Aishwarya','93')\n",
    "\n",
    "s1.show()"
   ]
  },
  {
   "cell_type": "code",
   "execution_count": 34,
   "id": "e6ff15c1",
   "metadata": {},
   "outputs": [],
   "source": [
    "#inheritance\n",
    "#single(A<---B),multi-level(A<---B<---C),multiple(A,B<-----C)\n",
    "\n",
    "class A:\n",
    "    def feature1(self):\n",
    "        print(\"Feature 1\")\n",
    "        \n",
    "    def feature2(self):\n",
    "        print(\"Feature 2\")\n",
    "        \n",
    "class B(A):        #----single\n",
    "    def feature3(self):\n",
    "        print(\"Feature 3\")\n",
    "        \n",
    "    def feature4(self):\n",
    "        print(\"Feature 4\")\n",
    "        \n",
    "class C(B):      #---multi-level\n",
    "    def feature5(self):\n",
    "        print(\"Feature 5\")\n",
    "        \n",
    "class D():\n",
    "    def __init__(self):\n",
    "        print(\"in D init\")\n",
    "        \n",
    "    def feature6(self):\n",
    "        print(\"Feature 6\")\n",
    "        \n",
    "#class E(A,D):    #----multiple\n",
    "    "
   ]
  },
  {
   "cell_type": "code",
   "execution_count": 35,
   "id": "a84a3a95",
   "metadata": {},
   "outputs": [
    {
     "name": "stdout",
     "output_type": "stream",
     "text": [
      "in A init\n",
      "in B init\n",
      "Feature 1\n"
     ]
    }
   ],
   "source": [
    "#constructor in inheritance and method resolution order\n",
    "\n",
    "class A:\n",
    "    def __init__(self):\n",
    "        print(\"in A init\")\n",
    "    \n",
    "    def feature1(self):\n",
    "        print(\"Feature 1\")\n",
    "        \n",
    "    def feature2(self):\n",
    "        print(\"Feature 2\")\n",
    "        \n",
    "class B(A):        #----single\n",
    "    def __init__(self):\n",
    "        super().__init__()\n",
    "        print(\"in B init\")\n",
    "        \n",
    "    def feature3(self):\n",
    "        print(\"Feature 3\")\n",
    "        \n",
    "    def feature4(self):\n",
    "        print(\"Feature 4\")\n",
    "        \n",
    "a1=B()#it will check init in B if not present then goes to A init,to get both super is used\n",
    "a1.feature1()"
   ]
  },
  {
   "cell_type": "code",
   "execution_count": 36,
   "id": "51253003",
   "metadata": {},
   "outputs": [
    {
     "name": "stdout",
     "output_type": "stream",
     "text": [
      "in A init\n",
      "in E init\n",
      "Feature 2\n"
     ]
    }
   ],
   "source": [
    "class E(A,D):\n",
    "    def __init__(self):\n",
    "        super().__init__()#left first MRO\n",
    "        print(\"in E init\")\n",
    "        \n",
    "    def feat(self):\n",
    "        super().feature2()#we can use super to call other methods\n",
    "a2=E()  \n",
    "a2.feat()"
   ]
  },
  {
   "cell_type": "code",
   "execution_count": 37,
   "id": "cd9ea5f8",
   "metadata": {},
   "outputs": [
    {
     "name": "stdout",
     "output_type": "stream",
     "text": [
      "21\n"
     ]
    }
   ],
   "source": [
    "#polymorphism--duck typing,operator overloading,method overloading,method overriding\n",
    "\n",
    "'''Duck typing is a concept related to dynamic typing, \n",
    "where the type or the class of an object is less important than the methods it defines.\n",
    "When you use duck typing, you do not check types at all. \n",
    "Instead, you check for the presence of a given method or attribute.'''\n",
    "\n",
    "\n",
    "class Specialstring:\n",
    "    def __len__(self):\n",
    "        return 21\n",
    "    \n",
    "if __name__ == \"__main__\":\n",
    "  \n",
    "    string = Specialstring()\n",
    "    print(len(string))"
   ]
  },
  {
   "cell_type": "code",
   "execution_count": 38,
   "id": "a119e7a5",
   "metadata": {},
   "outputs": [
    {
     "name": "stdout",
     "output_type": "stream",
     "text": [
      "fly with wings\n",
      "fly with fuel\n"
     ]
    },
    {
     "ename": "AttributeError",
     "evalue": "'Fish' object has no attribute 'fly'",
     "output_type": "error",
     "traceback": [
      "\u001b[0;31m---------------------------------------------------------------------------\u001b[0m",
      "\u001b[0;31mAttributeError\u001b[0m                            Traceback (most recent call last)",
      "\u001b[0;32m/tmp/ipykernel_28924/3564666092.py\u001b[0m in \u001b[0;36m<module>\u001b[0;34m\u001b[0m\n\u001b[1;32m     16\u001b[0m \u001b[0;31m# considered as duck typing\u001b[0m\u001b[0;34m\u001b[0m\u001b[0;34m\u001b[0m\u001b[0m\n\u001b[1;32m     17\u001b[0m \u001b[0;32mfor\u001b[0m \u001b[0mobj\u001b[0m \u001b[0;32min\u001b[0m \u001b[0mBird\u001b[0m\u001b[0;34m(\u001b[0m\u001b[0;34m)\u001b[0m\u001b[0;34m,\u001b[0m \u001b[0mAirplane\u001b[0m\u001b[0;34m(\u001b[0m\u001b[0;34m)\u001b[0m\u001b[0;34m,\u001b[0m \u001b[0mFish\u001b[0m\u001b[0;34m(\u001b[0m\u001b[0;34m)\u001b[0m\u001b[0;34m:\u001b[0m\u001b[0;34m\u001b[0m\u001b[0;34m\u001b[0m\u001b[0m\n\u001b[0;32m---> 18\u001b[0;31m     \u001b[0mobj\u001b[0m\u001b[0;34m.\u001b[0m\u001b[0mfly\u001b[0m\u001b[0;34m(\u001b[0m\u001b[0;34m)\u001b[0m\u001b[0;34m\u001b[0m\u001b[0;34m\u001b[0m\u001b[0m\n\u001b[0m",
      "\u001b[0;31mAttributeError\u001b[0m: 'Fish' object has no attribute 'fly'"
     ]
    }
   ],
   "source": [
    "# Python program to demonstrate\n",
    "# duck typing\n",
    "class Bird:\n",
    "    def fly(self):\n",
    "        print(\"fly with wings\")\n",
    "        \n",
    "class Airplane:\n",
    "    def fly(self):\n",
    "        print(\"fly with fuel\")\n",
    "        \n",
    "class Fish:\n",
    "    def swim(self):\n",
    "        print(\"fish swim in sea\")\n",
    "  \n",
    "# Attributes having same name are\n",
    "# considered as duck typing\n",
    "for obj in Bird(), Airplane(), Fish():\n",
    "    obj.fly()"
   ]
  },
  {
   "cell_type": "markdown",
   "id": "e8e55d95",
   "metadata": {},
   "source": [
    "operator        magic method\n",
    "   +     ---->   __add__\n",
    "   -     ---->   __sub__\n",
    "   *     ---->   __mul__....so..on"
   ]
  },
  {
   "cell_type": "code",
   "execution_count": 39,
   "id": "07f91856",
   "metadata": {},
   "outputs": [
    {
     "name": "stdout",
     "output_type": "stream",
     "text": [
      "58\n",
      "118\n",
      "58 69 60 65 118 134\n",
      "s1 wins\n"
     ]
    }
   ],
   "source": [
    "#operator overloading\n",
    "class marks:\n",
    "     \n",
    "    def __init__(self,m1,m2):\n",
    "        self.m1=m1\n",
    "        self.m2=m2\n",
    "        \n",
    "    def __add__(self,other):#int/str knows Arithmetic operations but in class it doesn't so we need to add the required operation\n",
    "        m1=self.m1+other.m1\n",
    "        m2=self.m2+other.m2\n",
    "        \n",
    "        s3=marks(m1,m2)\n",
    "        \n",
    "        return s3\n",
    "    def __gt__(self,other):\n",
    "        r1=self.m1+self.m2\n",
    "        r2=other.m1+other.m2\n",
    "        \n",
    "        if r1>r2:\n",
    "            return True\n",
    "        else:\n",
    "            return False\n",
    "        \n",
    "    def __str__(self):\n",
    "        return '{} {}'.format(self.m1,self.m2)\n",
    "\n",
    "\n",
    "s1=marks(58,69)\n",
    "print(s1.m1)\n",
    "s2=marks(60,65)\n",
    "\n",
    "s3=s1+s2\n",
    "\n",
    "print(s3.m1)\n",
    "\n",
    "\n",
    "print(s1,s2,s3)\n",
    "\n",
    "if s1>s2:\n",
    "    print(\"s1 wins\")\n",
    "else:\n",
    "    print(\"s2 wins\")"
   ]
  },
  {
   "cell_type": "code",
   "execution_count": 40,
   "id": "98179df0",
   "metadata": {},
   "outputs": [
    {
     "name": "stdout",
     "output_type": "stream",
     "text": [
      "11\n"
     ]
    }
   ],
   "source": [
    "#method overloading--when we define a function 2 arg and if we pass 3 or vice-versa it throws a error so to \n",
    "#avoid that we assign none to variable\n",
    "\n",
    "class addition:\n",
    "    \n",
    "    def __init__(self,m1,m2):\n",
    "        self.m1=m1\n",
    "        self.m2=m2\n",
    "        \n",
    "    def sum(self,a=None,b=None,c=None):\n",
    "        \n",
    "        s=0\n",
    "        \n",
    "        if a!=None and b!= None and c!= None:\n",
    "            s=a+b+c\n",
    "        elif a!=None and b!= None:\n",
    "            s=a+b\n",
    "        else:\n",
    "            s=a\n",
    "            \n",
    "        return s\n",
    "    \n",
    "s1=addition(3,4)\n",
    "print(s1.sum(4,7))"
   ]
  },
  {
   "cell_type": "code",
   "execution_count": 41,
   "id": "d1fcc7e2",
   "metadata": {},
   "outputs": [
    {
     "name": "stdout",
     "output_type": "stream",
     "text": [
      "in B show\n"
     ]
    }
   ],
   "source": [
    "#method overriding\n",
    "\n",
    "class A:\n",
    "    \n",
    "    def show(self):\n",
    "        print(\"in A show\")\n",
    "        \n",
    "class B(A) :\n",
    "    def show(self):\n",
    "        print(\"in B show\")\n",
    "        \n",
    "a1=B()\n",
    "a1.show()\n",
    "        "
   ]
  },
  {
   "cell_type": "code",
   "execution_count": 42,
   "id": "e1737d8e",
   "metadata": {},
   "outputs": [
    {
     "name": "stdout",
     "output_type": "stream",
     "text": [
      "If you use more I'll get heated\n"
     ]
    },
    {
     "ename": "TypeError",
     "evalue": "Can't instantiate abstract class pad with abstract method process",
     "output_type": "error",
     "traceback": [
      "\u001b[0;31m---------------------------------------------------------------------------\u001b[0m",
      "\u001b[0;31mTypeError\u001b[0m                                 Traceback (most recent call last)",
      "\u001b[0;32m/tmp/ipykernel_28924/2393715746.py\u001b[0m in \u001b[0;36m<module>\u001b[0;34m\u001b[0m\n\u001b[1;32m     29\u001b[0m         \u001b[0mprint\u001b[0m\u001b[0;34m(\u001b[0m\u001b[0;34m\"its working\"\u001b[0m\u001b[0;34m)\u001b[0m\u001b[0;34m\u001b[0m\u001b[0;34m\u001b[0m\u001b[0m\n\u001b[1;32m     30\u001b[0m \u001b[0;34m\u001b[0m\u001b[0m\n\u001b[0;32m---> 31\u001b[0;31m \u001b[0mS\u001b[0m \u001b[0;34m=\u001b[0m \u001b[0mpad\u001b[0m\u001b[0;34m(\u001b[0m\u001b[0;34m)\u001b[0m\u001b[0;34m\u001b[0m\u001b[0;34m\u001b[0m\u001b[0m\n\u001b[0m\u001b[1;32m     32\u001b[0m \u001b[0;31m#S.process()#error\u001b[0m\u001b[0;34m\u001b[0m\u001b[0;34m\u001b[0m\u001b[0m\n\u001b[1;32m     33\u001b[0m \u001b[0mS\u001b[0m\u001b[0;34m.\u001b[0m\u001b[0mworks\u001b[0m\u001b[0;34m(\u001b[0m\u001b[0;34m)\u001b[0m\u001b[0;31m#error\u001b[0m\u001b[0;34m\u001b[0m\u001b[0;34m\u001b[0m\u001b[0m\n",
      "\u001b[0;31mTypeError\u001b[0m: Can't instantiate abstract class pad with abstract method process"
     ]
    }
   ],
   "source": [
    "#Abstract classes and methods--abc --Abstract Base class\n",
    "'''creating an object for abstract classes then using that object if anyone calls the abstract method, \n",
    "but there is no actual implementation to invoke. So we use an abstract class as a template and according to the need,\n",
    "we extend it and build on it before we can use it. Due to the fact, an abstract class is not a concrete class, \n",
    "it cannot be instantiated. When we create an object for the abstract class it raises an error. \n",
    "'''\n",
    "\n",
    "from abc import ABC, abstractmethod\n",
    "\n",
    "class Computer(ABC):\n",
    "    @abstractmethod\n",
    "    def process(self):\n",
    "        pass\n",
    "    \n",
    "class laptop(Computer):\n",
    " \n",
    "    # overriding abstract method\n",
    "    def process(self):\n",
    "        print(\"If you use more I'll get heated\")\n",
    "        \n",
    "R = laptop()\n",
    "R.process()\n",
    "\n",
    "class pad(Computer):\n",
    "    '''def process(self):\n",
    "        print(\"If you use more I'll get heated\")'''#works when this is defined\n",
    "        \n",
    "    def works(self):\n",
    "        print(\"its working\")\n",
    "        \n",
    "S = pad()\n",
    "#S.process()#error\n",
    "S.works()#error"
   ]
  },
  {
   "cell_type": "code",
   "execution_count": 43,
   "id": "b452bda0",
   "metadata": {},
   "outputs": [
    {
     "name": "stdout",
     "output_type": "stream",
     "text": [
      "7\n",
      "8\n"
     ]
    }
   ],
   "source": [
    "#iterator\n",
    "\n",
    "nums=[7,8,9,10]#we can use indexing/for loop to print\n",
    "\n",
    "it=iter(nums)\n",
    "\n",
    "print(it.__next__())\n",
    "print(it.__next__())"
   ]
  },
  {
   "cell_type": "code",
   "execution_count": 44,
   "id": "c4b7149f",
   "metadata": {},
   "outputs": [
    {
     "name": "stdout",
     "output_type": "stream",
     "text": [
      "9\n",
      "10\n"
     ]
    }
   ],
   "source": [
    "for i in it:\n",
    "    print(i)"
   ]
  },
  {
   "cell_type": "code",
   "execution_count": 45,
   "id": "d51142ff",
   "metadata": {},
   "outputs": [
    {
     "name": "stdout",
     "output_type": "stream",
     "text": [
      "1\n",
      "2\n",
      "3\n",
      "4\n",
      "5\n",
      "6\n",
      "7\n",
      "8\n",
      "9\n",
      "10\n"
     ]
    }
   ],
   "source": [
    "#defining own iterator---to fetch one value at a time/one by one\n",
    "\n",
    "class TopTen:\n",
    "    \n",
    "    def __init__(self,start=1, end=10):\n",
    "        self.num = start\n",
    "        self.end = end\n",
    "        \n",
    "    def __iter__(self):\n",
    "        return self\n",
    "    \n",
    "    def __next__(self):\n",
    "        if self.num > self.end:\n",
    "            raise StopIteration\n",
    "        else:\n",
    "            self.num += 1\n",
    "            return self.num - 1\n",
    "\n",
    "values=TopTen()\n",
    "\n",
    "for i in values:\n",
    "    print(i)"
   ]
  },
  {
   "cell_type": "code",
   "execution_count": 46,
   "id": "213a887c",
   "metadata": {},
   "outputs": [
    {
     "name": "stdout",
     "output_type": "stream",
     "text": [
      "1\n",
      "1\n",
      "4\n",
      "9\n",
      "16\n",
      "25\n",
      "36\n",
      "49\n",
      "64\n",
      "81\n",
      "100\n",
      "2\n"
     ]
    }
   ],
   "source": [
    "#Generators--gives you an iterator\n",
    "\n",
    "def gen1():\n",
    "    \n",
    "    yield 1\n",
    "    yield 2\n",
    "    yield 3\n",
    "    \n",
    "ex1=gen1()\n",
    "\n",
    "print(ex1.__next__())\n",
    "\n",
    "\n",
    "\n",
    "def gen():\n",
    "    \n",
    "    n=1\n",
    "    \n",
    "    while n<=10:\n",
    "        sq =n*n\n",
    "        yield sq\n",
    "        \n",
    "        n+=1\n",
    "        \n",
    "ex=gen()\n",
    "\n",
    "for i in ex:\n",
    "    print(i)\n",
    "\n",
    "print(ex1.__next__())\n"
   ]
  },
  {
   "cell_type": "code",
   "execution_count": 47,
   "id": "bf7e3b84",
   "metadata": {},
   "outputs": [
    {
     "name": "stdout",
     "output_type": "stream",
     "text": [
      "enter a number : 4\n",
      "enter a number : 0\n",
      "can't divide with zero\n",
      "irrespetive of error I will get printed\n"
     ]
    }
   ],
   "source": [
    "'''exceptions\n",
    "---compile(syntax)\n",
    "---logical(wrong output)\n",
    "---runtime(divide by zero)'''\n",
    "\n",
    "try:\n",
    "    a=int(input(\"enter a number : \"))\n",
    "    b=int(input(\"enter a number : \"))\n",
    "    print(a/b)\n",
    "except ValueError:\n",
    "    print(\"Enter a number not string\")\n",
    "except ZeroDivisionError:\n",
    "    print(\"can't divide with zero\")\n",
    "except exceptions as e:#---------->handles any other exception apart from above two\n",
    "    print(\"oopss something went wrong\")\n",
    "    \n",
    "finally:\n",
    "    print(\"irrespetive of error I will get printed\")"
   ]
  },
  {
   "cell_type": "code",
   "execution_count": 48,
   "id": "6f0356a6",
   "metadata": {},
   "outputs": [
    {
     "name": "stdout",
     "output_type": "stream",
     "text": [
      "Hello\n",
      "Hello\n",
      "HelloHi\n",
      "Hello\n",
      "Hello\n",
      "Hello\n",
      "Hello\n",
      "Hello\n",
      "Hello\n",
      "Hello\n",
      "Hello\n",
      "Hello\n",
      "\n",
      "Hello\n",
      "Hello\n",
      "Hello\n",
      "Hello\n",
      "Hello\n",
      "Hello\n",
      "Hello\n",
      "Hello\n",
      "Hi\n",
      "Hi\n",
      "Hi\n",
      "Hi\n",
      "Hi\n",
      "Hi\n",
      "Hi\n",
      "Hi\n",
      "Hi\n",
      "Hi\n",
      "Hi\n",
      "Hi\n",
      "Hi\n",
      "Hi\n",
      "Hi\n",
      "Hi\n",
      "Hi\n",
      "Hi\n",
      "Hi\n"
     ]
    }
   ],
   "source": [
    "#Multithreading---running simultaneously\n",
    "\n",
    "from threading import *\n",
    "\n",
    "class Hello(Thread):\n",
    "    def run(self):\n",
    "        for i in range(20):\n",
    "            print('Hello')\n",
    "            \n",
    "            \n",
    "class Hi(Thread):\n",
    "    def run(self):\n",
    "        for i in range(20):\n",
    "            print('Hi')  \n",
    "            \n",
    "t1=Hello()\n",
    "t2=Hi()\n",
    "\n",
    "t1.start()#we have to use start\n",
    "t2.start()"
   ]
  },
  {
   "cell_type": "code",
   "execution_count": 49,
   "id": "03c91fc5",
   "metadata": {},
   "outputs": [
    {
     "name": "stdout",
     "output_type": "stream",
     "text": [
      "Hello\n",
      "Hi\n",
      "Hello\n",
      "Hi\n",
      "Hello\n",
      "Hi\n",
      "Hello\n",
      "Hi\n",
      "Hello\n",
      "Hi\n",
      "Hello\n",
      "Hi\n",
      "Hello\n",
      "Hi\n",
      "Hello\n",
      "Hi\n",
      "Hello\n",
      "Hi\n",
      "Hello\n",
      "Hi\n",
      "DONE\n"
     ]
    }
   ],
   "source": [
    "from time import sleep # our system executes so fast ,so we couldn't differentiate so to give gap we import sleep\n",
    "\n",
    "from threading import *\n",
    "\n",
    "class Hello(Thread):\n",
    "    def run(self):\n",
    "        for i in range(10):\n",
    "            print('Hello')\n",
    "            sleep(1)\n",
    "            \n",
    "            \n",
    "class Hi(Thread):\n",
    "    def run(self):\n",
    "        for i in range(10):\n",
    "            print('Hi')  \n",
    "            sleep(1)\n",
    "            \n",
    "t1=Hello()\n",
    "t2=Hi()\n",
    "\n",
    "t1.start()\n",
    "sleep(0.2)#to prevent collision\n",
    "t2.start()\n",
    "\n",
    "t1.join()#we are asking main threda to wait to complete the other two then go for next\n",
    "t2.join()\n",
    "\n",
    "print(\"DONE\")"
   ]
  },
  {
   "cell_type": "code",
   "execution_count": 51,
   "id": "dca179c6",
   "metadata": {},
   "outputs": [
    {
     "name": "stdout",
     "output_type": "stream",
     "text": [
      "My name is Natasha\n",
      "\n"
     ]
    },
    {
     "data": {
      "text/plain": [
       "26"
      ]
     },
     "execution_count": 51,
     "metadata": {},
     "output_type": "execute_result"
    }
   ],
   "source": [
    "#file handling-----------r(readonly),w(write),a(append)--for images we work with binary rb(read-binary),wb(writebinary)\n",
    "\n",
    "f=open('mydata.txt','r')\n",
    "print(f.readline())#prints line by line\n",
    "\n",
    "f1=open('creat.txt','w')\n",
    "f1.write(\"you are created in jupyter\")"
   ]
  },
  {
   "cell_type": "code",
   "execution_count": 52,
   "id": "e84160a2",
   "metadata": {},
   "outputs": [
    {
     "name": "stdout",
     "output_type": "stream",
     "text": [
      "b'\\xff\\xd8\\xff\\xe0\\x00\\x10JFIF\\x00\\x01\\x01\\x00\\x00\\x01\\x00\\x01\\x00\\x00\\xff\\xdb\\x00\\x84\\x00\\t\\x06\\x07\\x12\\x12\\x12\\x15\\x12\\x13\\x12\\x15\\x15\\x15\\x15\\x15\\x16\\x18\\x16\\x18\\x18\\x15\\x15\\x15\\x15\\x15\\x15\\x17\\x15\\x16\\x16\\x15\\x15\\x18\\x15\\x18\\x1d( \\x18\\x1a%\\x1b\\x15\\x17!1!%)+...\\x17\\x1f383-7(-.+\\x01\\n'\n"
     ]
    }
   ],
   "source": [
    "f=open('sunset.jpeg','rb')\n",
    "print(f.readline())#prints line by line\n",
    "\n",
    "f1=open('copy_sunset.jpeg','wb')#error\n",
    "\n",
    "for i in f:\n",
    "    f1.write(i)"
   ]
  },
  {
   "cell_type": "code",
   "execution_count": 53,
   "id": "867b2636",
   "metadata": {},
   "outputs": [
    {
     "name": "stdout",
     "output_type": "stream",
     "text": [
      "Found at  5\n",
      "Found at  6\n"
     ]
    }
   ],
   "source": [
    "#linear search\n",
    "\n",
    "#using while\n",
    "\n",
    "pos=-1\n",
    "\n",
    "def search(list,n):\n",
    "    i=0\n",
    "    \n",
    "    while i<len(list1):\n",
    "        if list1[i] == n:\n",
    "            globals() ['pos'] = i #global() to access global variable\n",
    "            return True\n",
    "        i=i+1\n",
    "        \n",
    "    return False\n",
    "\n",
    "list1=[5,8,4,6,9,2]\n",
    "n=9\n",
    "\n",
    "if search(list,n):\n",
    "    print(\"Found at \",pos+1)\n",
    "else:\n",
    "    print(\"not found\")\n",
    "    \n",
    "    \n",
    "#using for\n",
    "\n",
    "def search_1(list,n):\n",
    "    i=0\n",
    "    \n",
    "    for i in range(len(list1)):\n",
    "        if list1[i] == n:\n",
    "            globals() ['pos'] = i #global() to access global variable\n",
    "            return True\n",
    "        \n",
    "    return False\n",
    "\n",
    "n=2\n",
    "\n",
    "if search_1(list,n):\n",
    "    print(\"Found at \",pos+1)\n",
    "else:\n",
    "    print(\"not found\")"
   ]
  },
  {
   "cell_type": "code",
   "execution_count": 54,
   "id": "d5827187",
   "metadata": {},
   "outputs": [
    {
     "name": "stdout",
     "output_type": "stream",
     "text": [
      "YES! We have a match!\n",
      "The first white-space character is located in position: 2\n",
      "None\n",
      "['My', 'intension', 'was', 'not', 'to', 'hurt', 'you']\n",
      "My@intension@was@not@to@hurt@you\n"
     ]
    }
   ],
   "source": [
    "#Regular expressions or RegEX ---a sequence of characters that forms a search pattern\n",
    "\n",
    "import re\n",
    "\n",
    "txt = \"My intension was not to hurt you\"\n",
    "x = re.search(\"^My.+you$\", txt)#^-start $-end .-can be anyletter */+-one/more\n",
    "\n",
    "if x:\n",
    "  print(\"YES! We have a match!\")\n",
    "else:\n",
    "  print(\"No match\")\n",
    "\n",
    "\n",
    "y = re.search(\"\\s\", txt)\n",
    "\n",
    "print(\"The first white-space character is located in position:\", y.start()) \n",
    "\n",
    "z = re.search(\"Portugal\", txt)\n",
    "\n",
    "print(z)\n",
    "\n",
    "#spliting at white space\n",
    "u = re.split(\"\\s\", txt)#(\"\\s\", txt, 1)--to split at first whitespace occurrence\n",
    "print(u) \n",
    "\n",
    "#replacing whitespace \n",
    "v = re.sub(\"\\s\", \"@\", txt)#(\"\\s\", \"@\", txt, 2)---to replace no of occurrences\n",
    "print(v)"
   ]
  },
  {
   "cell_type": "code",
   "execution_count": 55,
   "id": "ac1747b8",
   "metadata": {},
   "outputs": [
    {
     "name": "stdout",
     "output_type": "stream",
     "text": [
      "This string contains special characters  \n"
     ]
    }
   ],
   "source": [
    "j=\"This#string%contains^special*characters&.\"\n",
    "\n",
    "print(re.sub(r\"[^a-zA-Z]\",\" \",j))#^any char except char in bracket"
   ]
  }
 ],
 "metadata": {
  "kernelspec": {
   "display_name": "Python 3 (ipykernel)",
   "language": "python",
   "name": "python3"
  },
  "language_info": {
   "codemirror_mode": {
    "name": "ipython",
    "version": 3
   },
   "file_extension": ".py",
   "mimetype": "text/x-python",
   "name": "python",
   "nbconvert_exporter": "python",
   "pygments_lexer": "ipython3",
   "version": "3.9.7"
  }
 },
 "nbformat": 4,
 "nbformat_minor": 5
}
